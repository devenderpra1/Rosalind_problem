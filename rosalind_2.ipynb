{
 "cells": [
  {
   "cell_type": "code",
   "execution_count": 13,
   "metadata": {
    "collapsed": true
   },
   "outputs": [],
   "source": [
    "import os"
   ]
  },
  {
   "cell_type": "code",
   "execution_count": 4,
   "metadata": {},
   "outputs": [
    {
     "name": "stdout",
     "output_type": "stream",
     "text": [
      "rosalind_ini2.txt\r\n"
     ]
    }
   ],
   "source": [
    "! ls ../dataset"
   ]
  },
  {
   "cell_type": "markdown",
   "metadata": {},
   "source": [
    "### File Handling"
   ]
  },
  {
   "cell_type": "code",
   "execution_count": 27,
   "metadata": {},
   "outputs": [
    {
     "name": "stdout",
     "output_type": "stream",
     "text": [
      "1465570\n"
     ]
    }
   ],
   "source": []
  },
  {
   "cell_type": "code",
   "execution_count": 1,
   "metadata": {},
   "outputs": [
    {
     "name": "stdout",
     "output_type": "stream",
     "text": [
      "973,\n",
      "965\n",
      "1877954\n"
     ]
    }
   ],
   "source": [
    "\n",
    "filename = '/home/FRACTAL/devender.prasad/Desktop/Assignments/Rosalind/files/rosalind_ini2.txt'\n",
    "with open(filename, 'r') as f:\n",
    "    data = f.read()\n",
    "    data = data.split(' ')\n",
    "\n",
    "#print(data)\n",
    "\n",
    "a = int(data[0])\n",
    "b = int(data[1].rstrip())\n",
    "print(f'{a},\\n{b}')\n",
    "\n",
    "c = (a*a)+(b*b)\n",
    "print(int(c))"
   ]
  },
  {
   "cell_type": "code",
   "execution_count": 16,
   "metadata": {},
   "outputs": [
    {
     "name": "stdout",
     "output_type": "stream",
     "text": [
      "27 17 22\n",
      "\n",
      "['XX', 'XX', 'XX', 'XX', 'XX', 'XX', 'XX', 'XX', 'XX', 'XX', 'XX', 'XX', 'XX', 'XX', 'XX', 'XX', 'XX', 'XX', 'XX', 'XX', 'XX', 'XX', 'XX', 'XX', 'XX', 'XX', 'XX', 'Xx', 'Xx', 'Xx', 'Xx', 'Xx', 'Xx', 'Xx', 'Xx', 'Xx', 'Xx', 'Xx', 'Xx', 'Xx', 'Xx', 'Xx', 'Xx', 'Xx', 'xx', 'xx', 'xx', 'xx', 'xx', 'xx', 'xx', 'xx', 'xx', 'xx', 'xx', 'xx', 'xx', 'xx', 'xx', 'xx', 'xx', 'xx', 'xx', 'xx', 'xx', 'xx']\n",
      "0.7892773892773893\n",
      "6772 8580 66\n"
     ]
    }
   ],
   "source": [
    "filename = '/home/FRACTAL/devender.prasad/Downloads/rosalind_iprb.txt'\n",
    "with open(filename, 'r') as f:\n",
    "    t = f.read()\n",
    "print(t)\n",
    "\n",
    "data_list = t.split(\" \")\n",
    "traits = []\n",
    "domnt = 0\n",
    "total = 0\n",
    "for i in range(int(data_list[0])):\n",
    "    traits.append(\"XX\")\n",
    "for i in range(int(data_list[1])):\n",
    "    traits.append(\"Xx\")\n",
    "for i in range(int(data_list[2].rstrip())):\n",
    "    traits.append(\"xx\")\n",
    "print(traits)\n",
    "for i,trait in enumerate(traits):\n",
    "    if trait == \"XX\":\n",
    "        z=1\n",
    "        for j in range(len(traits)-i-1):\n",
    "            if traits[i+z]==\"XX\":\n",
    "                domnt+=4\n",
    "                total+=4\n",
    "#                 print(trait,traits[i+z],domnt,total)\n",
    "                z += 1            \n",
    "            elif traits[i+z]==\"Xx\":                \n",
    "                domnt+=4\n",
    "                total+=4\n",
    "#                 print(trait,traits[i+z],domnt,total)\n",
    "                z += 1\n",
    "            elif traits[i+z]==\"xx\":\n",
    "                domnt+=4\n",
    "                total+=4\n",
    "#                 print(trait,traits[i+z],domnt,total)\n",
    "                z += 1    \n",
    "    elif trait == \"Xx\":\n",
    "        z=1\n",
    "        for j in range(len(traits)-i-1):\n",
    "            if traits[i+z]==\"XX\":                \n",
    "                domnt+=4\n",
    "                total+=4\n",
    "#                 print(trait,traits[i+z],domnt,total)\n",
    "                z += 1\n",
    "            elif traits[i+z]==\"Xx\":                \n",
    "                domnt+=3\n",
    "                total+=4\n",
    "#                 print(trait,traits[i+z],domnt,total)\n",
    "                z += 1\n",
    "            elif traits[i+z]==\"xx\":                \n",
    "                domnt+=2\n",
    "                total+=4\n",
    "#                 print(trait,traits[i+z],domnt,total)\n",
    "                z += 1\n",
    "    elif trait == \"xx\":\n",
    "        z=1\n",
    "        for j in range(len(traits)-i-1):\n",
    "            if traits[i+z]==\"XX\":                \n",
    "                domnt+=4\n",
    "                total+=4\n",
    "#                 print(trait,traits[i+z],domnt,total)\n",
    "                z += 1\n",
    "            elif traits[i+z]==\"Xx\":                \n",
    "                domnt+=2\n",
    "                total+=4\n",
    "#                 print(trait,traits[i+z],domnt,total)\n",
    "                z += 1\n",
    "            elif traits[i+z]==\"xx\":                \n",
    "                total+=4\n",
    "#                 print(trait,traits[i+z],domnt,total)\n",
    "                z += 1\n",
    "print(domnt/total)\n",
    "print(domnt,total,len(traits))"
   ]
  }
 ],
 "metadata": {
  "kernelspec": {
   "display_name": "Python 3",
   "language": "python",
   "name": "python3"
  },
  "language_info": {
   "codemirror_mode": {
    "name": "ipython",
    "version": 3
   },
   "file_extension": ".py",
   "mimetype": "text/x-python",
   "name": "python",
   "nbconvert_exporter": "python",
   "pygments_lexer": "ipython3",
   "version": "3.6.3"
  }
 },
 "nbformat": 4,
 "nbformat_minor": 2
}
