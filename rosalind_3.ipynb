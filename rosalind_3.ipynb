{
 "cells": [
  {
   "cell_type": "code",
   "execution_count": 1,
   "metadata": {
    "collapsed": true
   },
   "outputs": [],
   "source": [
    "import os"
   ]
  },
  {
   "cell_type": "code",
   "execution_count": 2,
   "metadata": {},
   "outputs": [
    {
     "name": "stdout",
     "output_type": "stream",
     "text": [
      "/home/FRACTAL/abhishek.deshmukh/Desktop/Rosalind/notebooks\r\n"
     ]
    }
   ],
   "source": [
    "!pwd"
   ]
  },
  {
   "cell_type": "code",
   "execution_count": 1,
   "metadata": {},
   "outputs": [
    {
     "name": "stdout",
     "output_type": "stream",
     "text": [
      "Alpes troglodytes\n"
     ]
    }
   ],
   "source": [
    "filename = '/home/FRACTAL/devender.prasad/Desktop/Assignments/Rosalind/files/rosalind_ini3.txt'\n",
    "with open(filename,'r') as f:\n",
    "    data=f.readlines()\n",
    "    line=data[0].rstrip()\n",
    "    num=data[1].rstrip()\n",
    "    i1,i2,i3,i4=num.split(\" \")\n",
    "    print(f'{line[int(i1):int(i2)+1]} {line[int(i3):int(i4)+1]}')\n",
    "    "
   ]
  },
  {
   "cell_type": "code",
   "execution_count": null,
   "metadata": {
    "collapsed": true
   },
   "outputs": [],
   "source": []
  }
 ],
 "metadata": {
  "kernelspec": {
   "display_name": "Python 3",
   "language": "python",
   "name": "python3"
  },
  "language_info": {
   "codemirror_mode": {
    "name": "ipython",
    "version": 3
   },
   "file_extension": ".py",
   "mimetype": "text/x-python",
   "name": "python",
   "nbconvert_exporter": "python",
   "pygments_lexer": "ipython3",
   "version": "3.6.3"
  }
 },
 "nbformat": 4,
 "nbformat_minor": 2
}
