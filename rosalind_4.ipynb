{
 "cells": [
  {
   "cell_type": "code",
   "execution_count": 1,
   "metadata": {
    "collapsed": true
   },
   "outputs": [],
   "source": [
    "import os\n"
   ]
  },
  {
   "cell_type": "code",
   "execution_count": 4,
   "metadata": {},
   "outputs": [
    {
     "name": "stdout",
     "output_type": "stream",
     "text": [
      "14526167\n"
     ]
    }
   ],
   "source": [
    "sum=0\n",
    "\n",
    "filename = '/home/FRACTAL/devender.prasad/Downloads/rosalind_ini4.txt'\n",
    "with open(filename, 'r') as txt:\n",
    "    data = txt.read()\n",
    "    a,b=data.split(\" \")\n",
    "    b=b.rstrip() \n",
    "# b can have trailing spaces and next(\\n)   \n",
    "    for num in range (int(a),int(b)+1):\n",
    "        if num%2==1:\n",
    "            sum+=num\n",
    "print(sum)"
   ]
  }
 ],
 "metadata": {
  "kernelspec": {
   "display_name": "Python 3",
   "language": "python",
   "name": "python3"
  },
  "language_info": {
   "codemirror_mode": {
    "name": "ipython",
    "version": 3
   },
   "file_extension": ".py",
   "mimetype": "text/x-python",
   "name": "python",
   "nbconvert_exporter": "python",
   "pygments_lexer": "ipython3",
   "version": "3.6.3"
  }
 },
 "nbformat": 4,
 "nbformat_minor": 2
}
