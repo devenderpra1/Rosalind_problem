{
 "cells": [
  {
   "cell_type": "code",
   "execution_count": 1,
   "metadata": {
    "collapsed": true
   },
   "outputs": [],
   "source": [
    "import os\n"
   ]
  },
  {
   "cell_type": "code",
   "execution_count": 1,
   "metadata": {},
   "outputs": [
    {
     "name": "stdout",
     "output_type": "stream",
     "text": [
      "14526167\n"
     ]
    }
   ],
   "source": [
    "sum=0\n",
    "filename = '/home/FRACTAL/devender.prasad/Downloads/rosalind_ini4.txt'\n",
    "with open(filename, 'r') as f:\n",
    "    data = f.read()\n",
    "    a,b=data.split(\" \")\n",
    "    b=b.rstrip()\n",
    "    for i in range (int(a),int(b)+1):\n",
    "        if i%2==1:\n",
    "            sum+=i\n",
    "print(sum)\n",
    "            "
   ]
  },
  {
   "cell_type": "code",
   "execution_count": null,
   "metadata": {
    "collapsed": true
   },
   "outputs": [],
   "source": []
  }
 ],
 "metadata": {
  "kernelspec": {
   "display_name": "Python 3",
   "language": "python",
   "name": "python3"
  },
  "language_info": {
   "codemirror_mode": {
    "name": "ipython",
    "version": 3
   },
   "file_extension": ".py",
   "mimetype": "text/x-python",
   "name": "python",
   "nbconvert_exporter": "python",
   "pygments_lexer": "ipython3",
   "version": "3.6.3"
  }
 },
 "nbformat": 4,
 "nbformat_minor": 2
}
