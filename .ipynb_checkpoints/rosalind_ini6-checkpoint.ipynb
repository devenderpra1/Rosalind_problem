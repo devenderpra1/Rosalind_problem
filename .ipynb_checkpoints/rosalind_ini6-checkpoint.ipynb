{
 "cells": [
  {
   "cell_type": "code",
   "execution_count": 1,
   "metadata": {
    "collapsed": true
   },
   "outputs": [],
   "source": [
    "import os"
   ]
  },
  {
   "cell_type": "code",
   "execution_count": 10,
   "metadata": {},
   "outputs": [
    {
     "name": "stdout",
     "output_type": "stream",
     "text": [
      "of 11\n",
      "let 30\n",
      "is 4\n",
      "be 41\n",
      "still 2\n",
      "wake 1\n",
      "world 1\n",
      "darkness 1\n",
      "comes 2\n",
      "hour 1\n",
      "to 3\n",
      "Whisper 4\n",
      "answer 4\n",
      "Speaking 3\n",
      "chance 1\n",
      "shines 1\n",
      "Shine 1\n",
      "when 2\n",
      "me 4\n",
      "yeah 2\n",
      "words 7\n",
      "an 4\n",
      "I 2\n",
      "Let 6\n",
      "may 1\n",
      "it 36\n",
      "light 1\n",
      "will 5\n",
      "front 1\n",
      "the 4\n",
      "living 1\n",
      "standing 1\n",
      "right 1\n",
      "wisdom 7\n",
      "parted 1\n",
      "that 2\n",
      "see 1\n",
      "For 1\n",
      "on 1\n",
      "music 1\n",
      "people 1\n",
      "tomorrow 1\n",
      "my 1\n",
      "agree 1\n",
      "hearted 1\n",
      "she 1\n",
      "though 1\n",
      "trouble 1\n",
      "broken 1\n",
      "There 4\n",
      "in 4\n",
      "until 1\n",
      "find 1\n",
      "myself 1\n",
      "Mother 2\n",
      "night 1\n",
      "a 2\n",
      "there 2\n",
      "times 1\n",
      "they 2\n",
      "sound 1\n",
      "Mary 2\n",
      "And 3\n",
      "up 1\n",
      "When 1\n",
      "cloudy 1\n"
     ]
    }
   ],
   "source": [
    "c=0\n",
    "res={}\n",
    "filename = '/home/FRACTAL/abhishek.deshmukh/Desktop/Rosalind/dataset/rosalind_ini6.txt'\n",
    "with open(filename,'r') as f:\n",
    "    data=f.read()\n",
    "    data=data.rstrip()\n",
    "    a=data.split(\" \")\n",
    "    b=set(a)\n",
    "    for i in b:\n",
    "        for j in a:\n",
    "            if i==j:\n",
    "                c=c+1\n",
    "                res[i]=c\n",
    "        c=0\n",
    "for key, value in res.items():\n",
    "    print(f'{key} {value}')\n",
    "                \n",
    "        "
   ]
  },
  {
   "cell_type": "code",
   "execution_count": null,
   "metadata": {
    "collapsed": true
   },
   "outputs": [],
   "source": []
  },
  {
   "cell_type": "code",
   "execution_count": null,
   "metadata": {
    "collapsed": true
   },
   "outputs": [],
   "source": []
  }
 ],
 "metadata": {
  "kernelspec": {
   "display_name": "Python 3",
   "language": "python",
   "name": "python3"
  },
  "language_info": {
   "codemirror_mode": {
    "name": "ipython",
    "version": 3
   },
   "file_extension": ".py",
   "mimetype": "text/x-python",
   "name": "python",
   "nbconvert_exporter": "python",
   "pygments_lexer": "ipython3",
   "version": "3.6.3"
  }
 },
 "nbformat": 4,
 "nbformat_minor": 2
}
