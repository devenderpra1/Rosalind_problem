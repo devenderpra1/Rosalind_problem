{
 "cells": [
  {
   "cell_type": "code",
   "execution_count": 13,
   "metadata": {
    "collapsed": true
   },
   "outputs": [],
   "source": [
    "import os"
   ]
  },
  {
   "cell_type": "code",
   "execution_count": 4,
   "metadata": {},
   "outputs": [
    {
     "name": "stdout",
     "output_type": "stream",
     "text": [
      "rosalind_ini2.txt\r\n"
     ]
    }
   ],
   "source": [
    "! ls ../dataset"
   ]
  },
  {
   "cell_type": "markdown",
   "metadata": {},
   "source": [
    "### File Handling"
   ]
  },
  {
   "cell_type": "code",
   "execution_count": 27,
   "metadata": {},
   "outputs": [
    {
     "name": "stdout",
     "output_type": "stream",
     "text": [
      "1465570\n"
     ]
    }
   ],
   "source": [
    "# f = open(filename, 'r')\n",
    "# data = f.read()\n",
    "# f.close()\n",
    "\n",
    "filename = '../dataset/rosalind_ini2.txt'\n",
    "with open(filename, 'r') as f:\n",
    "    data = f.read()\n",
    "    data = data.split(' ')\n",
    "    \n",
    "a = int(data[0])\n",
    "b = int(data[1].rstrip())\n",
    "\n",
    "c = (a*a)+(b*b)\n",
    "print(int(c))\n",
    "    \n",
    "#print(f'Data: {data}\\na: {a}\\nb: {b}')"
   ]
  },
  {
   "cell_type": "code",
   "execution_count": 26,
   "metadata": {},
   "outputs": [
    {
     "ename": "IndentationError",
     "evalue": "unexpected indent (<ipython-input-26-63f720d41355>, line 2)",
     "output_type": "error",
     "traceback": [
      "\u001b[0;36m  File \u001b[0;32m\"<ipython-input-26-63f720d41355>\"\u001b[0;36m, line \u001b[0;32m2\u001b[0m\n\u001b[0;31m    filename = '/home/FRACTAL/abhishek.deshmukh/Desktop/Rosalind/dataset/rosalind_ini2.txt'\u001b[0m\n\u001b[0m    ^\u001b[0m\n\u001b[0;31mIndentationError\u001b[0m\u001b[0;31m:\u001b[0m unexpected indent\n"
     ]
    }
   ],
   "source": [
    "\n",
    "filename = '/home/FRACTAL/abhishek.deshmukh/Desktop/Rosalind/dataset/rosalind_ini2.txt'\n",
    "with open(filename, 'r') as f:\n",
    "    data = f.read()\n",
    "    data = data.split(' ')\n",
    "\n",
    "a = int(data[0])\n",
    "b = int(data[1].rstrip())\n",
    "\n",
    "c = (a*a)+(b*b)\n",
    "print(int(c))"
   ]
  },
  {
   "cell_type": "code",
   "execution_count": null,
   "metadata": {
    "collapsed": true
   },
   "outputs": [],
   "source": []
  }
 ],
 "metadata": {
  "kernelspec": {
   "display_name": "Python 3",
   "language": "python",
   "name": "python3"
  },
  "language_info": {
   "codemirror_mode": {
    "name": "ipython",
    "version": 3
   },
   "file_extension": ".py",
   "mimetype": "text/x-python",
   "name": "python",
   "nbconvert_exporter": "python",
   "pygments_lexer": "ipython3",
   "version": "3.6.3"
  }
 },
 "nbformat": 4,
 "nbformat_minor": 2
}
