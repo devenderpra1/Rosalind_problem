{
 "cells": [
  {
   "cell_type": "code",
   "execution_count": 1,
   "metadata": {},
   "outputs": [],
   "source": [
    "import os"
   ]
  },
  {
   "cell_type": "code",
   "execution_count": 6,
   "metadata": {},
   "outputs": [
    {
     "name": "stdout",
     "output_type": "stream",
     "text": [
      "233 260 241 251 "
     ]
    }
   ],
   "source": [
    "x=0\n",
    "filename = '/home/FRACTAL/abhishek.deshmukh/Desktop/Rosalind/dataset/rosalind_dna.txt'\n",
    "with open(filename,'r') as f:\n",
    "    data=f.read()\n",
    "    data=data.rstrip()\n",
    "    sym=['A','C','G','T']\n",
    "    for i in sym:\n",
    "        x=data.count(i)\n",
    "        print(f'{x}',end=\" \")"
   ]
  },
  {
   "cell_type": "code",
   "execution_count": null,
   "metadata": {},
   "outputs": [],
   "source": []
  },
  {
   "cell_type": "code",
   "execution_count": null,
   "metadata": {},
   "outputs": [],
   "source": []
  }
 ],
 "metadata": {
  "kernelspec": {
   "display_name": "Python 3",
   "language": "python",
   "name": "python3"
  },
  "language_info": {
   "codemirror_mode": {
    "name": "ipython",
    "version": 3
   },
   "file_extension": ".py",
   "mimetype": "text/x-python",
   "name": "python",
   "nbconvert_exporter": "python",
   "pygments_lexer": "ipython3",
   "version": "3.7.0"
  }
 },
 "nbformat": 4,
 "nbformat_minor": 2
}
